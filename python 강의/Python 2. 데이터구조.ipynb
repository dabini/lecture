{
 "cells": [
  {
   "cell_type": "markdown",
   "metadata": {},
   "source": [
    "# Python 2. 데이터구조\n",
    "\n"
   ]
  },
  {
   "cell_type": "markdown",
   "metadata": {},
   "source": [
    "## 학습해야 할 내용\n",
    "\n",
    "    • 시퀀스 자료형\n",
    "    • set, dictionary\n",
    "    • 제어문"
   ]
  },
  {
   "cell_type": "markdown",
   "metadata": {},
   "source": [
    "### 1. 아래 보기 중, 변경할 수 있는(mutable) 것과 변경 불가능한 것(immutable)을 분류 하시오"
   ]
  },
  {
   "cell_type": "markdown",
   "metadata": {},
   "source": [
    "<center>String List Tuple Range Set Dictionary</center>"
   ]
  },
  {
   "cell_type": "code",
   "execution_count": 1,
   "metadata": {},
   "outputs": [],
   "source": [
    "#변경 가능한 것\n",
    "List Tuple Range Set Dictionary"
   ]
  },
  {
   "cell_type": "code",
   "execution_count": 2,
   "metadata": {},
   "outputs": [],
   "source": [
    "#변경 불가능한 것\n",
    "\n",
    "String, Tuple"
   ]
  },
  {
   "cell_type": "markdown",
   "metadata": {},
   "source": [
    "### 2. range와 slicing을 활용하여 1부터 50까지 숫자 중 홀수로 이루어진 리스트를 만드시오\n"
   ]
  },
  {
   "cell_type": "code",
   "execution_count": 5,
   "metadata": {},
   "outputs": [
    {
     "name": "stdout",
     "output_type": "stream",
     "text": [
      "[1, 3, 5, 7, 9, 11, 13, 15, 17, 19, 21, 23, 25, 27, 29, 31, 33, 35, 37, 39, 41, 43, 45, 47, 49]\n"
     ]
    }
   ],
   "source": [
    "lst = []\n",
    "for i in range(1, 51):\n",
    "    if i % 2:\n",
    "        lst.append(i)\n",
    "print(lst)"
   ]
  },
  {
   "cell_type": "markdown",
   "metadata": {},
   "source": [
    "### 3. 반 학생들의 정보를 이용하여 key는 이름, value는 나이인 딕셔너리를 만드시오.\n"
   ]
  },
  {
   "cell_type": "code",
   "execution_count": 14,
   "metadata": {},
   "outputs": [
    {
     "name": "stdout",
     "output_type": "stream",
     "text": [
      "{'강민정': 1, '김나연': 2, '김민재': 3, '김성민': 4, '김세훈': 5, '김연수': 6, '김원정': 7, '김태형': 8, '남동규': 9, '류승민': 10, '박세진': 11, '박태웅': 12, '서용준': 13, '우지윤': 14, '이솔': 15, '이승헌': 16, '이예은': 17, '이원준': 18, '이태정': 19, '전성환': 20, '정재철': 21, '조다빈': 22, '조제형': 23, '지건영': 24, '표하민': 25, '황수현': 26}\n"
     ]
    }
   ],
   "source": [
    "ban = {'강민정': 1, '김나연': 2, '김민재': 3, '김성민': 4, '김세훈' : 5, '김연수' : 6, \n",
    "       '김원정' : 7, '김태형' : 8, '남동규' : 9, '류승민' : 10, '박세진' : 11, '박태웅' : 12,\n",
    "       '서용준' : 13, '우지윤' : 14, '이솔' : 15, '이승헌' : 16, '이예은' : 17, '이원준' : 18,\n",
    "       '이태정' : 19, '전성환' : 20, '정재철' : 21, '조다빈' : 22, '조제형' : 23, '지건영' : 24,\n",
    "        '표하민' : 25, '황수현' : 26}\n",
    "\n",
    "print(ban)"
   ]
  },
  {
   "cell_type": "markdown",
   "metadata": {},
   "source": [
    "___\n",
    "# WorkShop"
   ]
  },
  {
   "cell_type": "markdown",
   "metadata": {},
   "source": [
    ">Background\n",
    "    - container\n",
    "    - String, List, Dictionary"
   ]
  },
  {
   "cell_type": "markdown",
   "metadata": {},
   "source": [
    ">Goal\n",
    "    - 데이터 구조에 대한 이해\n",
    "    - 제어문에 대한 이해"
   ]
  },
  {
   "cell_type": "markdown",
   "metadata": {},
   "source": [
    "## Problem"
   ]
  },
  {
   "cell_type": "markdown",
   "metadata": {},
   "source": [
    "### 1. 두 개의 정수 n과 m이 주어질 때, 반복문을 사용하여 별(*) 문자를 이용해 가로의 길이가 n, 세로의 길이가 m인 사각형을 출력하시오."
   ]
  },
  {
   "cell_type": "code",
   "execution_count": 17,
   "metadata": {},
   "outputs": [],
   "source": [
    "#문제\n",
    "n = 5\n",
    "m = 9"
   ]
  },
  {
   "cell_type": "code",
   "execution_count": 19,
   "metadata": {},
   "outputs": [
    {
     "name": "stdout",
     "output_type": "stream",
     "text": [
      "*****\n",
      "*****\n",
      "*****\n",
      "*****\n",
      "*****\n",
      "*****\n",
      "*****\n",
      "*****\n",
      "*****\n"
     ]
    }
   ],
   "source": [
    "for i in range(m):\n",
    "    print('*' * 5)"
   ]
  },
  {
   "cell_type": "markdown",
   "metadata": {},
   "source": [
    "### 2.과목명과 점수가 담긴 딕셔너리가 있을 때, 평균 점수를 출력하시오"
   ]
  },
  {
   "cell_type": "code",
   "execution_count": 21,
   "metadata": {},
   "outputs": [],
   "source": [
    "#문제\n",
    "student = {'python' : 80, 'algorithm' : 99, 'django' : 89, 'flask' : 83}"
   ]
  },
  {
   "cell_type": "code",
   "execution_count": 23,
   "metadata": {},
   "outputs": [
    {
     "name": "stdout",
     "output_type": "stream",
     "text": [
      "87.75\n"
     ]
    }
   ],
   "source": [
    "sum = 0\n",
    "\n",
    "for i in student:\n",
    "    sum += student[i]\n",
    "avg = sum / len(student)\n",
    "print(avg)"
   ]
  },
  {
   "cell_type": "markdown",
   "metadata": {},
   "source": [
    "### 3. 다음은 여러 사람의 혈액형(A, B, AB, O)에 대한 데이터이다. 반복문을 사용하여 key는 혈액형의 종류, value는 인원 수인 딕셔너리를 만들고 출력하시오.."
   ]
  },
  {
   "cell_type": "code",
   "execution_count": 27,
   "metadata": {},
   "outputs": [],
   "source": [
    "#문제\n",
    "blood_types = ['A', 'B', 'A', 'O', 'AB', 'AB', 'O', 'A', 'B', 'O', 'B', 'AB']"
   ]
  },
  {
   "cell_type": "code",
   "execution_count": 30,
   "metadata": {},
   "outputs": [
    {
     "name": "stdout",
     "output_type": "stream",
     "text": [
      "{'A': 3, 'B': 3, 'O': 3, 'AB': 3}\n"
     ]
    }
   ],
   "source": [
    "blood_dict = {}\n",
    "for type in blood_types:\n",
    "    blood_dict[type] = blood_types.count(type)\n",
    "print(blood_dict)"
   ]
  }
 ],
 "metadata": {
  "kernelspec": {
   "display_name": "Python 3",
   "language": "python",
   "name": "python3"
  },
  "language_info": {
   "codemirror_mode": {
    "name": "ipython",
    "version": 3
   },
   "file_extension": ".py",
   "mimetype": "text/x-python",
   "name": "python",
   "nbconvert_exporter": "python",
   "pygments_lexer": "ipython3",
   "version": "3.7.3"
  }
 },
 "nbformat": 4,
 "nbformat_minor": 4
}
